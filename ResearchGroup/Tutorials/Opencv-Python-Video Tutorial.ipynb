{
 "cells": [
  {
   "cell_type": "markdown",
   "metadata": {},
   "source": [
    "# Introduction to OpenCV Videos and Images\n",
    "\n",
    "This notebook is designed for introducing the methods and modules needed for the processing of images and videos. Opencv and Numpy are required."
   ]
  },
  {
   "cell_type": "code",
   "execution_count": null,
   "metadata": {
    "collapsed": true
   },
   "outputs": [],
   "source": [
    "import cv2\n",
    "import numpy as np"
   ]
  },
  {
   "cell_type": "markdown",
   "metadata": {},
   "source": [
    "These are the general import methods used for working with the opencv algorithms. We import all the opencv functions from the namespace cv2. Also, we import all the functions that numpy provides, but use an alias (np) for the module name. This is completely optional, but helps with reducing redundant typing caused by typing a long module name. "
   ]
  },
  {
   "cell_type": "code",
   "execution_count": null,
   "metadata": {
    "collapsed": true
   },
   "outputs": [],
   "source": [
    "cap = cv2.VideoCapture(0)\n",
    "#cap = cv2.VideoCapture(\"/path/to/your/video/sample.mp4\")"
   ]
  },
  {
   "cell_type": "markdown",
   "metadata": {},
   "source": [
    "With this line of code, we create a VideoCapture object called cap. This object is instantiated with one input parameter, which is either a string that represents a videofile, or an integer representing a physical camera device on the computer. Normally, camera 0 is associated with the webcam of a laptop."
   ]
  },
  {
   "cell_type": "code",
   "execution_count": null,
   "metadata": {
    "collapsed": true
   },
   "outputs": [],
   "source": [
    "ret,frame = cap.read()"
   ]
  },
  {
   "cell_type": "markdown",
   "metadata": {},
   "source": [
    "Here, the VideoCapture class function read(), returns a boolean value representing whether retrieving a frame was successful, and the next frame from the videofile as a numpy array. "
   ]
  },
  {
   "cell_type": "code",
   "execution_count": null,
   "metadata": {
    "collapsed": false
   },
   "outputs": [],
   "source": [
    "while(ret):\n",
    "    cv2.imshow(\"Video Window\",frame)\n",
    "    if(cv2.waitKey(1)& 0xFF==ord('q')):\n",
    "        break\n",
    "    ret,frame = cap.read()"
   ]
  },
  {
   "cell_type": "markdown",
   "metadata": {},
   "source": [
    "Now, here the video is displayed frame by frame until there are no more frames left to read, or if the user presses the 'q' key on the keyboard. The function imshow(), takes two input parameters, a string that is the physical name of the window displaying the image, and the actual image itself, and dsplays the image. The conditional statement is waiting 1 millisecond for an key press and then checks is said key press is a 'q', and if it is, exit the loop. Finally, a new frame is read from the VideoCapture cap object and the cycle repeats again."
   ]
  },
  {
   "cell_type": "code",
   "execution_count": null,
   "metadata": {
    "collapsed": true
   },
   "outputs": [],
   "source": [
    "cap.release()\n",
    "cv2.destroyAllWindows()"
   ]
  },
  {
   "cell_type": "markdown",
   "metadata": {},
   "source": [
    "Lastly, after processing and displaying the video, we clean up all leftover processes. we perform a release() function on the VideoCapture cap object so that the videofile can be used later on. If this is not done, when another VideoCapture object is instantiated with the same videofile name, it will fail and return a Null value. Also, the destroyAllWindows() just closes all Opencv related windows."
   ]
  },
  {
   "cell_type": "code",
   "execution_count": null,
   "metadata": {
    "collapsed": true
   },
   "outputs": [],
   "source": []
  }
 ],
 "metadata": {
  "kernelspec": {
   "display_name": "Python 2",
   "language": "python",
   "name": "python2"
  },
  "language_info": {
   "codemirror_mode": {
    "name": "ipython",
    "version": 2
   },
   "file_extension": ".py",
   "mimetype": "text/x-python",
   "name": "python",
   "nbconvert_exporter": "python",
   "pygments_lexer": "ipython2",
   "version": "2.7.10"
  }
 },
 "nbformat": 4,
 "nbformat_minor": 0
}
