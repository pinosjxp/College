{
 "cells": [
  {
   "cell_type": "markdown",
   "metadata": {},
   "source": [
    "# Introduction to OpenCV Images Tutorial\n",
    "This tutorial will go over manipulating images in Opencv, exploring and detailing the structure of the image object and show some examples of simple image tranformations(i.e grayscale and negative conversion). "
   ]
  },
  {
   "cell_type": "code",
   "execution_count": 1,
   "metadata": {
    "collapsed": true
   },
   "outputs": [],
   "source": [
    "import cv2 #OpenCV Library\n",
    "import numpy #Numerical Python"
   ]
  },
  {
   "cell_type": "markdown",
   "metadata": {},
   "source": [
    "Again, we import the necessary modules for manipulating images, which is the OpenCV module(cv2) and the numpy module, since we will be modifying the structure of the image(i.e a n-dimensional matrix). Normally, we use the \"as\" keyword to rename the numpy module to np for less typing in the code (i.e typing np instead of numpy), but for conceptual simplicity, we'll just use numpy in this example."
   ]
  },
  {
   "cell_type": "code",
   "execution_count": 2,
   "metadata": {
    "collapsed": true
   },
   "outputs": [],
   "source": [
    "#image = cv2.imread(\"/path/to/your/image/file/here/image.jpg\")\n",
    "image = cv2.imread(\"/home/pinosjxp/Downloads/bird.jpg\")"
   ]
  },
  {
   "cell_type": "markdown",
   "metadata": {},
   "source": [
    "We read in an image file(e.g jpeg, png, ppm, etc..), specified in the path, for use later in the program. The image file's data is stored in a numpy array object that we declared as variable image. This allows us to easily modify the values using numpy operations as we see fit."
   ]
  },
  {
   "cell_type": "code",
   "execution_count": 3,
   "metadata": {
    "collapsed": false
   },
   "outputs": [
    {
     "name": "stdout",
     "output_type": "stream",
     "text": [
      "(478, 717, 3)\n",
      "[[[ 13  59  46]\n",
      "  [ 11  61  49]\n",
      "  [ 12  61  47]\n",
      "  ..., \n",
      "  [162  92 132]\n",
      "  [163  91 137]\n",
      "  [162  90 136]]\n",
      "\n",
      " [[ 18  57  49]\n",
      "  [ 16  59  50]\n",
      "  [ 15  58  49]\n",
      "  ..., \n",
      "  [160  91 136]\n",
      "  [159  91 138]\n",
      "  [158  90 137]]\n",
      "\n",
      " [[ 18  55  45]\n",
      "  [ 18  57  42]\n",
      "  [ 17  55  43]\n",
      "  ..., \n",
      "  [164  92 138]\n",
      "  [161  92 137]\n",
      "  [160  91 136]]\n",
      "\n",
      " ..., \n",
      " [[ 32 114  85]\n",
      "  [ 32 114  85]\n",
      "  [ 25 114  81]\n",
      "  ..., \n",
      "  [ 71 155 121]\n",
      "  [ 69 153 125]\n",
      "  [ 69 153 125]]\n",
      "\n",
      " [[ 30 115  83]\n",
      "  [ 29 114  82]\n",
      "  [ 27 114  80]\n",
      "  ..., \n",
      "  [ 71 155 121]\n",
      "  [ 70 154 126]\n",
      "  [ 70 154 126]]\n",
      "\n",
      " [[ 30 117  81]\n",
      "  [ 28 115  81]\n",
      "  [ 28 116  80]\n",
      "  ..., \n",
      "  [ 68 153 125]\n",
      "  [ 69 153 124]\n",
      "  [ 69 153 124]]]\n"
     ]
    }
   ],
   "source": [
    "print(numpy.shape(image))\n",
    "print(image)"
   ]
  },
  {
   "cell_type": "markdown",
   "metadata": {},
   "source": [
    "Now we print the shape of the image matrix and the actual matrix of the image so we can see visually see the values  stored in the array. The numpy.shape() function recieves a numpy matrix as a parameter and return the size of each dimension of the matrix as a tuple. In our case, our image is in the BGR format, so we have a three dimensional matrix, with the return tuple containing the height, width, and amount of colors (Should be 3, because blue, green, and red), respectively.\n",
    "\n",
    "Looking at the results of printing the image matrix to console, we can look at each individual pixel in the image. Referencing above, the first value in the group of three numbers represents the intensity of blue, the second represents green, and the last, red. The values can have a minimun of 0 (Black) and a maximun of 255 (Max saturation of color); the reason for this is that one color value is stored as a byte (8 bits, with a bit being 0 or 1) and 2^8 = 256 different shades of that one color, otherwise known as an unsigned 8-bit integer. We also note the structure of the matrix, which numpy essentialy uses nested lists in order to create the matrix. The colors are grouped into lists of pixels, and the lists of pixels are grouped row by row."
   ]
  },
  {
   "cell_type": "code",
   "execution_count": 4,
   "metadata": {
    "collapsed": false
   },
   "outputs": [
    {
     "name": "stdout",
     "output_type": "stream",
     "text": [
      "[[[ 13  59  46]\n",
      "  [ 11  61  49]\n",
      "  [ 12  61  47]\n",
      "  ..., \n",
      "  [162  92 132]\n",
      "  [163  91 137]\n",
      "  [162  90 136]]\n",
      "\n",
      " [[ 18  57  49]\n",
      "  [ 16  59  50]\n",
      "  [ 15  58  49]\n",
      "  ..., \n",
      "  [160  91 136]\n",
      "  [159  91 138]\n",
      "  [158  90 137]]\n",
      "\n",
      " [[ 18  55  45]\n",
      "  [ 18  57  42]\n",
      "  [ 17  55  43]\n",
      "  ..., \n",
      "  [164  92 138]\n",
      "  [161  92 137]\n",
      "  [160  91 136]]\n",
      "\n",
      " ..., \n",
      " [[ 32 114  85]\n",
      "  [ 32 114  85]\n",
      "  [ 25 114  81]\n",
      "  ..., \n",
      "  [ 71 155 121]\n",
      "  [ 69 153 125]\n",
      "  [ 69 153 125]]\n",
      "\n",
      " [[ 30 115  83]\n",
      "  [ 29 114  82]\n",
      "  [ 27 114  80]\n",
      "  ..., \n",
      "  [ 71 155 121]\n",
      "  [ 70 154 126]\n",
      "  [ 70 154 126]]\n",
      "\n",
      " [[ 30 117  81]\n",
      "  [ 28 115  81]\n",
      "  [ 28 116  80]\n",
      "  ..., \n",
      "  [ 68 153 125]\n",
      "  [ 69 153 124]\n",
      "  [ 69 153 124]]]\n"
     ]
    }
   ],
   "source": [
    "image_negative = numpy.copy(image)\n",
    "print(image_negative)"
   ]
  },
  {
   "cell_type": "markdown",
   "metadata": {},
   "source": [
    "## Negation of an image\n",
    "Now we will convert the image we read in prior to its negative manualy. Here, an exact copy of the image variable is created and saved to image_grayscale. The print operation shows that the data in image_grayscale is the same as the data in image."
   ]
  },
  {
   "cell_type": "markdown",
   "metadata": {},
   "source": [
    "This is the main algorithm that handles the negation of the pixels. It indexes through the matrix row by row and column by column, changes each pixel value to its respective negative value, and saves the result back into the image_negative matrix. Congradulations, the image is now converted to negative. There will be code at the end to display the results but if you can't wait, uncomment the code snippet below to view the image."
   ]
  },
  {
   "cell_type": "code",
   "execution_count": 5,
   "metadata": {
    "collapsed": false
   },
   "outputs": [
    {
     "name": "stdout",
     "output_type": "stream",
     "text": [
      "[[[242 196 209]\n",
      "  [244 194 206]\n",
      "  [243 194 208]\n",
      "  ..., \n",
      "  [ 93 163 123]\n",
      "  [ 92 164 118]\n",
      "  [ 93 165 119]]\n",
      "\n",
      " [[237 198 206]\n",
      "  [239 196 205]\n",
      "  [240 197 206]\n",
      "  ..., \n",
      "  [ 95 164 119]\n",
      "  [ 96 164 117]\n",
      "  [ 97 165 118]]\n",
      "\n",
      " [[237 200 210]\n",
      "  [237 198 213]\n",
      "  [238 200 212]\n",
      "  ..., \n",
      "  [ 91 163 117]\n",
      "  [ 94 163 118]\n",
      "  [ 95 164 119]]\n",
      "\n",
      " ..., \n",
      " [[223 141 170]\n",
      "  [223 141 170]\n",
      "  [230 141 174]\n",
      "  ..., \n",
      "  [184 100 134]\n",
      "  [186 102 130]\n",
      "  [186 102 130]]\n",
      "\n",
      " [[225 140 172]\n",
      "  [226 141 173]\n",
      "  [228 141 175]\n",
      "  ..., \n",
      "  [184 100 134]\n",
      "  [185 101 129]\n",
      "  [185 101 129]]\n",
      "\n",
      " [[225 138 174]\n",
      "  [227 140 174]\n",
      "  [227 139 175]\n",
      "  ..., \n",
      "  [187 102 130]\n",
      "  [186 102 131]\n",
      "  [186 102 131]]]\n"
     ]
    }
   ],
   "source": [
    "for row in image_negative:     # Loops through rows\n",
    "    for column in row:        # Loops through columns in rows(i.e the pixels)\n",
    "        column[0]=255-column[0] # Converts Blue value to its negative\n",
    "        column[1]=255-column[1] # Converts Green value to its negative\n",
    "        column[2]=255-column[2] # Converts Red value to its negative\n",
    "print(image_negative)"
   ]
  },
  {
   "cell_type": "code",
   "execution_count": 6,
   "metadata": {
    "collapsed": true
   },
   "outputs": [],
   "source": [
    "# Uncomment this code below if you wish to view the image right now.\n",
    "#cv2.imshow(\"Negative Image\", image_negative)\n",
    "#cv2.waitKey(0)"
   ]
  },
  {
   "cell_type": "markdown",
   "metadata": {},
   "source": [
    "## Grayscale of an image\n",
    "Another interesting image manipulation is the grayscale operation. There is an openCV function to perform this operation, namely cv2.cvtColor(image, cv2.COLOR_BGR2GRAY), but we will do this manually for practice."
   ]
  },
  {
   "cell_type": "code",
   "execution_count": 7,
   "metadata": {
    "collapsed": false
   },
   "outputs": [
    {
     "name": "stdout",
     "output_type": "stream",
     "text": [
      "[[0 0 0 ..., 0 0 0]\n",
      " [0 0 0 ..., 0 0 0]\n",
      " [0 0 0 ..., 0 0 0]\n",
      " ..., \n",
      " [0 0 0 ..., 0 0 0]\n",
      " [0 0 0 ..., 0 0 0]\n",
      " [0 0 0 ..., 0 0 0]]\n"
     ]
    }
   ],
   "source": [
    "height,width,_ = numpy.shape(image)\n",
    "image_grayscale = numpy.zeros((height,width),numpy.uint8)\n",
    "print(image_grayscale)"
   ]
  },
  {
   "cell_type": "markdown",
   "metadata": {},
   "source": [
    "Here we start by extracting the values from the tuple returned by the numpy.shape() function. Note the undescore placed after the width variable; this essentially means that we are not using the last value in the tuple so ignore the value. Now, since the matrix format for a grayscale image (2-D) is different than that of a color image (3-D), we must create a new matrix that will hold the values for the grayscale conversion. The numpy.zeros() function takes 2 parameters, a tuple of the size of the dimensions of the matrix (i.e a 2x3 matrix would be (2,3), while a 7x14x3 matrix is (7,14,3)) and the datatype of the values stored in the array. The last parameter is optional, but the default value is a floating point number, which is not the same datatype we're using (8 bit unsigned integers), so in our case, we have to add this parameter. The function returns a matrix filled with the number 0."
   ]
  },
  {
   "cell_type": "code",
   "execution_count": null,
   "metadata": {
    "collapsed": false
   },
   "outputs": [
    {
     "name": "stdout",
     "output_type": "stream",
     "text": [
      "[[ 49  51  51 ..., 111 112 111]\n",
      " [ 50  51  50 ..., 112 112 111]\n",
      " [ 47  48  47 ..., 113 113 112]\n",
      " ..., \n",
      " [ 95  95  93 ..., 135 135 135]\n",
      " [ 95  94  93 ..., 135 136 136]\n",
      " [ 96  94  95 ..., 134 134 134]]\n"
     ]
    }
   ],
   "source": [
    "for h in range(height):\n",
    "    for w in range(width):\n",
    "        #image_grayscale[h][w] = (image[h][w][0]+image[h][w][1]+image[h][w][2])/3\n",
    "        image_grayscale[h][w] = image[h][w][0]*0.114+image[h][w][1]*0.587+image[h][w][2]*0.299\n",
    "print(image_grayscale)"
   ]
  },
  {
   "cell_type": "markdown",
   "metadata": {},
   "source": [
    "Similar to the negation algorithm, we iterate through every pixel in the original image, row by row, column by column, but now we find the average of all three colors in the pixel and assign that value to its corresponding location in the image_grayscale matrix. The true grayscale operation in commented above, and the difference is correlated to our perception of color; we see more shades of green than any other color, so green is weighted more vesus the other colors."
   ]
  },
  {
   "cell_type": "code",
   "execution_count": null,
   "metadata": {
    "collapsed": true
   },
   "outputs": [],
   "source": [
    "cv2.imshow(\"Original Image\",image)\n",
    "cv2.imshow(\"Grayscale Image\", image_grayscale)\n",
    "cv2.imshow(\"Negative Image\", image_negative)\n",
    "cv2.waitKey(0)"
   ]
  },
  {
   "cell_type": "markdown",
   "metadata": {},
   "source": [
    "Finally, the original, grayscale, and negated images are all displayed so you can visually verify that the algorithms accomplished their objective."
   ]
  }
 ],
 "metadata": {
  "kernelspec": {
   "display_name": "Python 2",
   "language": "python",
   "name": "python2"
  },
  "language_info": {
   "codemirror_mode": {
    "name": "ipython",
    "version": 2
   },
   "file_extension": ".py",
   "mimetype": "text/x-python",
   "name": "python",
   "nbconvert_exporter": "python",
   "pygments_lexer": "ipython2",
   "version": "2.7.10"
  }
 },
 "nbformat": 4,
 "nbformat_minor": 0
}
