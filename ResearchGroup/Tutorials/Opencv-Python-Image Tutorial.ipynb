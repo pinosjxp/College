{
 "cells": [
  {
   "cell_type": "markdown",
   "metadata": {},
   "source": [
    "# Introduction to OpenCV Images Tutorial\n",
    "This tutorial will go over manipulating images in Opencv, exploring and detailing the structure of the image object and show some examples of simple image tranformations(i.e grayscale and negative conversion). "
   ]
  },
  {
   "cell_type": "code",
   "execution_count": null,
   "metadata": {
    "collapsed": true
   },
   "outputs": [],
   "source": [
    "import cv2 #OpenCV Library\n",
    "import numpy #Numerical Python"
   ]
  },
  {
   "cell_type": "markdown",
   "metadata": {},
   "source": [
    "Again, we import the necessary modules for manipulating images, which is the OpenCV module(cv2) and the numpy module, since we will be modifying the structure of the image(i.e a n-dimensional matrix). Normally, we use the \"as\" keyword to rename the numpy module to np for less typing in the code (i.e typing np instead of numpy), but for conceptual simplicity, we'll just use numpy in this example."
   ]
  },
  {
   "cell_type": "code",
   "execution_count": null,
   "metadata": {
    "collapsed": true
   },
   "outputs": [],
   "source": [
    "image = cv2.imread(\"/path/to/your/image/file/here/image.jpg\") # USE YOUR OWN IMAGE"
   ]
  },
  {
   "cell_type": "markdown",
   "metadata": {},
   "source": [
    "We read in an image file(e.g jpeg, png, ppm, etc..), specified in the path, for use later in the program. The image file's data is stored in a numpy array object that we declared as variable image. This allows us to easily modify the values using numpy operations as we see fit."
   ]
  },
  {
   "cell_type": "code",
   "execution_count": null,
   "metadata": {
    "collapsed": false
   },
   "outputs": [],
   "source": [
    "print(numpy.shape(image))\n",
    "print(image)"
   ]
  },
  {
   "cell_type": "markdown",
   "metadata": {},
   "source": [
    "Now we print the shape of the image matrix and the actual matrix of the image so we can see visually see the values  stored in the array. The numpy.shape() function recieves a numpy matrix as a parameter and return the size of each dimension of the matrix as a tuple. In our case, our image is in the BGR format, so we have a three dimensional matrix, with the return tuple containing the height, width, and amount of colors (Should be 3, because blue, green, and red), respectively.\n",
    "\n",
    "Looking at the results of printing the image matrix to console, we can look at each individual pixel in the image. Referencing above, the first value in the group of three numbers represents the intensity of blue, the second represents green, and the last, red. The values can have a minimun of 0 (Black) and a maximun of 255 (Max saturation of color); the reason for this is that one color value is stored as a byte (8 bits, with a bit being 0 or 1) and 2^8 = 256 different shades of that one color, otherwise known as an unsigned 8-bit integer. We also note the structure of the matrix, which numpy essentialy uses nested lists in order to create the matrix. The colors are grouped into lists of pixels, and the lists of pixels are grouped row by row."
   ]
  },
  {
   "cell_type": "code",
   "execution_count": null,
   "metadata": {
    "collapsed": false
   },
   "outputs": [],
   "source": [
    "image_negative = numpy.copy(image)\n",
    "print(image_negative)"
   ]
  },
  {
   "cell_type": "markdown",
   "metadata": {},
   "source": [
    "## Negation of an image\n",
    "Now we will convert the image we read in prior to its negative manualy. Here, an exact copy of the image variable is created and saved to image_grayscale. The print operation shows that the data in image_grayscale is the same as the data in image."
   ]
  },
  {
   "cell_type": "markdown",
   "metadata": {},
   "source": [
    "This is the main algorithm that handles the negation of the pixels. It indexes through the matrix row by row and column by column, changes each pixel value to its respective negative value, and saves the result back into the image_negative matrix. Congradulations, the image is now converted to negative. There will be code at the end to display the results but if you can't wait, uncomment the code snippet below to view the image."
   ]
  },
  {
   "cell_type": "code",
   "execution_count": null,
   "metadata": {
    "collapsed": false
   },
   "outputs": [],
   "source": [
    "for row in image_negative:     # Loops through rows\n",
    "    for column in row:        # Loops through columns in rows(i.e the pixels)\n",
    "        column[0]=255-column[0] # Converts Blue value to its negative\n",
    "        column[1]=255-column[1] # Converts Green value to its negative\n",
    "        column[2]=255-column[2] # Converts Red value to its negative\n",
    "print(image_negative)"
   ]
  },
  {
   "cell_type": "code",
   "execution_count": null,
   "metadata": {
    "collapsed": true
   },
   "outputs": [],
   "source": [
    "# Uncomment this code below if you wish to view the image right now.\n",
    "#cv2.imshow(\"Negative Image\", image_negative)\n",
    "#cv2.waitKey(0)"
   ]
  },
  {
   "cell_type": "markdown",
   "metadata": {},
   "source": [
    "## Grayscale of an image\n",
    "Another interesting image manipulation is the grayscale operation. There is an openCV function to perform this operation, namely cv2.cvtColor(image, cv2.COLOR_BGR2GRAY), but we will do this manually for practice."
   ]
  },
  {
   "cell_type": "code",
   "execution_count": null,
   "metadata": {
    "collapsed": false
   },
   "outputs": [],
   "source": [
    "height,width,_ = numpy.shape(image)\n",
    "image_grayscale = numpy.zeros((height,width),numpy.uint8)\n",
    "print(image_grayscale)"
   ]
  },
  {
   "cell_type": "markdown",
   "metadata": {},
   "source": [
    "Here we start by extracting the values from the tuple returned by the numpy.shape() function. Note the undescore placed after the width variable; this essentially means that we are not using the last value in the tuple so ignore the value. Now, since the matrix format for a grayscale image (2-D) is different than that of a color image (3-D), we must create a new matrix that will hold the values for the grayscale conversion. The numpy.zeros() function takes 2 parameters, a tuple of the size of the dimensions of the matrix (i.e a 2x3 matrix would be (2,3), while a 7x14x3 matrix is (7,14,3)) and the datatype of the values stored in the array. The last parameter is optional, but the default value is a floating point number, which is not the same datatype we're using (8 bit unsigned integers), so in our case, we have to add this parameter. The function returns a matrix filled with the number 0."
   ]
  },
  {
   "cell_type": "code",
   "execution_count": null,
   "metadata": {
    "collapsed": false
   },
   "outputs": [],
   "source": [
    "for h in range(height):\n",
    "    for w in range(width):\n",
    "        image_grayscale[h][w] = (image[h][w][0]+image[h][w][1]+image[h][w][2])/3\n",
    "        #image_grayscale[h][w] = image[h][w][0]*0.114+image[h][w][1]*0.587+image[h][w][2]*0.299\n",
    "print(image_grayscale)"
   ]
  },
  {
   "cell_type": "markdown",
   "metadata": {},
   "source": [
    "Similar to the negation algorithm, we iterate through every pixel in the original image, row by row, column by column, but now we find the average of all three colors in the pixel and assign that value to its corresponding location in the image_grayscale matrix. The true grayscale operation in commented above, and the difference is correlated to our perception of color; we see more shades of green than any other color, so green is weighted more vesus the other colors."
   ]
  },
  {
   "cell_type": "code",
   "execution_count": null,
   "metadata": {
    "collapsed": true
   },
   "outputs": [],
   "source": [
    "cv2.imshow(\"Original Image\",image)\n",
    "cv2.imshow(\"Grayscale Image\", image_grayscale)\n",
    "cv2.imshow(\"Negative Image\", image_negative)\n",
    "cv2.waitKey(0)"
   ]
  },
  {
   "cell_type": "markdown",
   "metadata": {},
   "source": [
    "Finally, the original, grayscale, and negated images are all displayed so you can visually verify that the algorithms accomplished their objective."
   ]
  }
 ],
 "metadata": {
  "kernelspec": {
   "display_name": "Python 2",
   "language": "python",
   "name": "python2"
  },
  "language_info": {
   "codemirror_mode": {
    "name": "ipython",
    "version": 2
   },
   "file_extension": ".py",
   "mimetype": "text/x-python",
   "name": "python",
   "nbconvert_exporter": "python",
   "pygments_lexer": "ipython2",
   "version": "2.7.10"
  }
 },
 "nbformat": 4,
 "nbformat_minor": 0
}
